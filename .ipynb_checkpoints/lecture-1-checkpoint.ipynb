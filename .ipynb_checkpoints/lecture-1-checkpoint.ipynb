{
 "cells": [
  {
   "cell_type": "code",
   "execution_count": 25,
   "metadata": {},
   "outputs": [],
   "source": [
    "import numpy as np\n",
    "import pylab as pl\n",
    "import pandas as pd\n",
    "import warnings\n",
    "\n",
    "from matplotlib import pyplot as plt\n",
    "from scipy import linalg\n",
    "from sklearn.datasets import load_digits\n",
    "from sklearn.decomposition import TruncatedSVD\n",
    "from sklearn.ensemble import RandomForestClassifier\n",
    "warnings.filterwarnings(\"ignore\")"
   ]
  },
  {
   "cell_type": "markdown",
   "metadata": {},
   "source": [
    "# Вектора"
   ]
  },
  {
   "cell_type": "markdown",
   "metadata": {},
   "source": [
    "*Вектора*. Загрузим датасет \"Hessen House Prices Dataset\" из kaggle (https://www.kaggle.com/orgesleka/hessen-house-prices-dataset). 1 вектор в данной таблице - это один дом с различными показателями."
   ]
  },
  {
   "cell_type": "code",
   "execution_count": 26,
   "metadata": {},
   "outputs": [
    {
     "data": {
      "text/html": [
       "<div>\n",
       "<style scoped>\n",
       "    .dataframe tbody tr th:only-of-type {\n",
       "        vertical-align: middle;\n",
       "    }\n",
       "\n",
       "    .dataframe tbody tr th {\n",
       "        vertical-align: top;\n",
       "    }\n",
       "\n",
       "    .dataframe thead th {\n",
       "        text-align: right;\n",
       "    }\n",
       "</style>\n",
       "<table border=\"1\" class=\"dataframe\">\n",
       "  <thead>\n",
       "    <tr style=\"text-align: right;\">\n",
       "      <th></th>\n",
       "      <th>posterid</th>\n",
       "      <th>Haustyp</th>\n",
       "      <th>Angebotstyp</th>\n",
       "      <th>Wohnflaeche__m²_</th>\n",
       "      <th>Zimmer</th>\n",
       "      <th>abtest</th>\n",
       "      <th>plz</th>\n",
       "      <th>Verkaeufer</th>\n",
       "      <th>yo_m</th>\n",
       "      <th>Baujahr</th>\n",
       "      <th>...</th>\n",
       "      <th>Verfuegbar_ab_Jahr</th>\n",
       "      <th>Dachboden</th>\n",
       "      <th>Verfuegbar_ab_Monat</th>\n",
       "      <th>Nebenkosten__in_€_</th>\n",
       "      <th>Kaution__in_€_</th>\n",
       "      <th>Haustiere_erlaubt</th>\n",
       "      <th>Warmmiete__in_€_</th>\n",
       "      <th>Heizkosten__in_€_</th>\n",
       "      <th>WG_geeignet</th>\n",
       "      <th>Denkmalobjekt</th>\n",
       "    </tr>\n",
       "  </thead>\n",
       "  <tbody>\n",
       "    <tr>\n",
       "      <th>0</th>\n",
       "      <td>50316225</td>\n",
       "      <td>einfamilienhaus</td>\n",
       "      <td>Angebot</td>\n",
       "      <td>160</td>\n",
       "      <td>6</td>\n",
       "      <td>control</td>\n",
       "      <td>33378</td>\n",
       "      <td>gewerblich</td>\n",
       "      <td>A</td>\n",
       "      <td>1928.0</td>\n",
       "      <td>...</td>\n",
       "      <td>NaN</td>\n",
       "      <td>NaN</td>\n",
       "      <td>NaN</td>\n",
       "      <td>NaN</td>\n",
       "      <td>NaN</td>\n",
       "      <td>NaN</td>\n",
       "      <td>NaN</td>\n",
       "      <td>NaN</td>\n",
       "      <td>NaN</td>\n",
       "      <td>NaN</td>\n",
       "    </tr>\n",
       "    <tr>\n",
       "      <th>1</th>\n",
       "      <td>50379245</td>\n",
       "      <td>mehrfamilienhaus</td>\n",
       "      <td>Angebot</td>\n",
       "      <td>160</td>\n",
       "      <td>8.0</td>\n",
       "      <td>control</td>\n",
       "      <td>65207</td>\n",
       "      <td>gewerblich</td>\n",
       "      <td>A</td>\n",
       "      <td>1968.0</td>\n",
       "      <td>...</td>\n",
       "      <td>NaN</td>\n",
       "      <td>NaN</td>\n",
       "      <td>NaN</td>\n",
       "      <td>NaN</td>\n",
       "      <td>NaN</td>\n",
       "      <td>NaN</td>\n",
       "      <td>NaN</td>\n",
       "      <td>NaN</td>\n",
       "      <td>NaN</td>\n",
       "      <td>NaN</td>\n",
       "    </tr>\n",
       "    <tr>\n",
       "      <th>2</th>\n",
       "      <td>40815451</td>\n",
       "      <td>einfamilienhaus</td>\n",
       "      <td>Angebot</td>\n",
       "      <td>120</td>\n",
       "      <td>4</td>\n",
       "      <td>control</td>\n",
       "      <td>54647</td>\n",
       "      <td>gewerblich</td>\n",
       "      <td>A</td>\n",
       "      <td>1750.0</td>\n",
       "      <td>...</td>\n",
       "      <td>NaN</td>\n",
       "      <td>NaN</td>\n",
       "      <td>NaN</td>\n",
       "      <td>NaN</td>\n",
       "      <td>NaN</td>\n",
       "      <td>NaN</td>\n",
       "      <td>NaN</td>\n",
       "      <td>NaN</td>\n",
       "      <td>NaN</td>\n",
       "      <td>NaN</td>\n",
       "    </tr>\n",
       "    <tr>\n",
       "      <th>3</th>\n",
       "      <td>49513983</td>\n",
       "      <td>einfamilienhaus</td>\n",
       "      <td>Angebot</td>\n",
       "      <td>140</td>\n",
       "      <td>5</td>\n",
       "      <td>control</td>\n",
       "      <td>7646</td>\n",
       "      <td>gewerblich</td>\n",
       "      <td>A</td>\n",
       "      <td>2017.0</td>\n",
       "      <td>...</td>\n",
       "      <td>NaN</td>\n",
       "      <td>NaN</td>\n",
       "      <td>NaN</td>\n",
       "      <td>NaN</td>\n",
       "      <td>NaN</td>\n",
       "      <td>NaN</td>\n",
       "      <td>NaN</td>\n",
       "      <td>NaN</td>\n",
       "      <td>NaN</td>\n",
       "      <td>NaN</td>\n",
       "    </tr>\n",
       "    <tr>\n",
       "      <th>4</th>\n",
       "      <td>49797192</td>\n",
       "      <td>einfamilienhaus</td>\n",
       "      <td>Angebot</td>\n",
       "      <td>80</td>\n",
       "      <td>4</td>\n",
       "      <td>control</td>\n",
       "      <td>54597</td>\n",
       "      <td>gewerblich</td>\n",
       "      <td>A</td>\n",
       "      <td>1900.0</td>\n",
       "      <td>...</td>\n",
       "      <td>NaN</td>\n",
       "      <td>NaN</td>\n",
       "      <td>NaN</td>\n",
       "      <td>NaN</td>\n",
       "      <td>NaN</td>\n",
       "      <td>NaN</td>\n",
       "      <td>NaN</td>\n",
       "      <td>NaN</td>\n",
       "      <td>NaN</td>\n",
       "      <td>NaN</td>\n",
       "    </tr>\n",
       "  </tbody>\n",
       "</table>\n",
       "<p>5 rows × 42 columns</p>\n",
       "</div>"
      ],
      "text/plain": [
       "   posterid           Haustyp Angebotstyp  Wohnflaeche__m²_ Zimmer   abtest  \\\n",
       "0  50316225   einfamilienhaus     Angebot               160      6  control   \n",
       "1  50379245  mehrfamilienhaus     Angebot               160    8.0  control   \n",
       "2  40815451   einfamilienhaus     Angebot               120      4  control   \n",
       "3  49513983   einfamilienhaus     Angebot               140      5  control   \n",
       "4  49797192   einfamilienhaus     Angebot                80      4  control   \n",
       "\n",
       "     plz  Verkaeufer yo_m  Baujahr  ...  Verfuegbar_ab_Jahr Dachboden  \\\n",
       "0  33378  gewerblich    A   1928.0  ...                 NaN       NaN   \n",
       "1  65207  gewerblich    A   1968.0  ...                 NaN       NaN   \n",
       "2  54647  gewerblich    A   1750.0  ...                 NaN       NaN   \n",
       "3   7646  gewerblich    A   2017.0  ...                 NaN       NaN   \n",
       "4  54597  gewerblich    A   1900.0  ...                 NaN       NaN   \n",
       "\n",
       "   Verfuegbar_ab_Monat Nebenkosten__in_€_  Kaution__in_€_ Haustiere_erlaubt  \\\n",
       "0                  NaN                NaN             NaN               NaN   \n",
       "1                  NaN                NaN             NaN               NaN   \n",
       "2                  NaN                NaN             NaN               NaN   \n",
       "3                  NaN                NaN             NaN               NaN   \n",
       "4                  NaN                NaN             NaN               NaN   \n",
       "\n",
       "  Warmmiete__in_€_  Heizkosten__in_€_ WG_geeignet Denkmalobjekt  \n",
       "0              NaN                NaN         NaN           NaN  \n",
       "1              NaN                NaN         NaN           NaN  \n",
       "2              NaN                NaN         NaN           NaN  \n",
       "3              NaN                NaN         NaN           NaN  \n",
       "4              NaN                NaN         NaN           NaN  \n",
       "\n",
       "[5 rows x 42 columns]"
      ]
     },
     "execution_count": 26,
     "metadata": {},
     "output_type": "execute_result"
    }
   ],
   "source": [
    "url=\"http://yustiks.ru/dataset/houses.json\"\n",
    "df=pd.read_json(url)\n",
    "df.head()"
   ]
  },
  {
   "cell_type": "markdown",
   "metadata": {},
   "source": [
    "Названия параметров здесь даны на немецком языке. \n",
    "В целом, каждая колонка несет информацию о доме.\n",
    "*  Aktuell_vermietet\t- текущий съем\n",
    "*  Angebotstyp\t- тип предложения\n",
    "*  Badewanne\t- ванна\n",
    "*  Balkon\t- балкон\n",
    "*  Barrierefrei\t- доступность\n",
    "*  Baujahr\t- в каком году был куплен\n",
    "*  Dachboden\t- чердак\n",
    "*  Denkmalobjekt\t- тип фундамента\n",
    "*  Dusche - душ\n",
    "*  Einbaukueche\t - кухня\n",
    "*  Einliegerwohnung - апартаменты\n",
    "*  ExactPreis\t- стоимость дома (квартиры)\n",
    "*  Gaeste_WC\t- гостевой туалет\n",
    "*  Garage/Stellplatz\t- гараж\n",
    "*  Garten/_mitnutzung\t- сад\n",
    "*  Grundstuecksflaeche__m²_\t- площадь\n",
    "*  Haustiere_erlaubt\t- наличие домашних животных\n",
    "*  Haustyp\t- тип дома\n",
    "*  Heizkosten__in_€_\t- самая высокая цена\n",
    "*  Heizungsart\t- отопление\n",
    "*  Kaution__in_€_\t- депозит\n",
    "*  Keller\t- чердак\n",
    "*  Moebliert/Teilmoebliert\t\n",
    "*  Nebenkosten__in_€_\t- цена на соседние дома\n",
    "*  Preis\t- стоимость\n",
    "*  Provision\t- комиссия\n",
    "*  Terrasse\t- терраса\n",
    "*  Verfuegbar_ab_Jahr\t\n",
    "*  Verfuegbar_ab_Monat\t\n",
    "*  Verkaeufer\t- продавец\n",
    "*  WG_geeignet\t- туалет\n",
    "*  Warmmiete__in_€_\t- стоимость аренды включая отопление\n",
    "*  Wohnflaeche__m²_\t- площадь жилого помещения\n",
    "*  Zimmer\t- комната\n",
    "*  abtest\t\n",
    "*  adid\n",
    "*  elasticSearch\t\n",
    "*  kw\t- пояснения о доме\n",
    "*  plz\t\n",
    "*  posterid\t- id объявления\n",
    "*  yo_m\t\n",
    "*  yo_s"
   ]
  },
  {
   "cell_type": "markdown",
   "metadata": {},
   "source": [
    "Каждый вектор имеет размер 42. Те вектора, в которых отсутстсвуют параметры (есть значения Nan), должны быть предобработаны, чтобы размерность векторов стала одинаковой. Для наглядности, создадим новую таблицу, куда включим только несколько столбцов: это когда был куплен дом, количество комнат, площадь дома и стоимость дома."
   ]
  },
  {
   "cell_type": "code",
   "execution_count": 27,
   "metadata": {},
   "outputs": [
    {
     "data": {
      "text/html": [
       "<div>\n",
       "<style scoped>\n",
       "    .dataframe tbody tr th:only-of-type {\n",
       "        vertical-align: middle;\n",
       "    }\n",
       "\n",
       "    .dataframe tbody tr th {\n",
       "        vertical-align: top;\n",
       "    }\n",
       "\n",
       "    .dataframe thead th {\n",
       "        text-align: right;\n",
       "    }\n",
       "</style>\n",
       "<table border=\"1\" class=\"dataframe\">\n",
       "  <thead>\n",
       "    <tr style=\"text-align: right;\">\n",
       "      <th></th>\n",
       "      <th>Baujahr</th>\n",
       "      <th>Zimmer</th>\n",
       "      <th>Wohnflaeche__m²_</th>\n",
       "      <th>Preis</th>\n",
       "    </tr>\n",
       "  </thead>\n",
       "  <tbody>\n",
       "    <tr>\n",
       "      <th>0</th>\n",
       "      <td>1928.0</td>\n",
       "      <td>6</td>\n",
       "      <td>160</td>\n",
       "      <td>90000.0</td>\n",
       "    </tr>\n",
       "    <tr>\n",
       "      <th>1</th>\n",
       "      <td>1968.0</td>\n",
       "      <td>8.0</td>\n",
       "      <td>160</td>\n",
       "      <td>90000.0</td>\n",
       "    </tr>\n",
       "    <tr>\n",
       "      <th>2</th>\n",
       "      <td>1750.0</td>\n",
       "      <td>4</td>\n",
       "      <td>120</td>\n",
       "      <td>70000.0</td>\n",
       "    </tr>\n",
       "    <tr>\n",
       "      <th>3</th>\n",
       "      <td>2017.0</td>\n",
       "      <td>5</td>\n",
       "      <td>140</td>\n",
       "      <td>90000.0</td>\n",
       "    </tr>\n",
       "    <tr>\n",
       "      <th>4</th>\n",
       "      <td>1900.0</td>\n",
       "      <td>4</td>\n",
       "      <td>80</td>\n",
       "      <td>90000.0</td>\n",
       "    </tr>\n",
       "  </tbody>\n",
       "</table>\n",
       "</div>"
      ],
      "text/plain": [
       "   Baujahr Zimmer  Wohnflaeche__m²_    Preis\n",
       "0   1928.0      6               160  90000.0\n",
       "1   1968.0    8.0               160  90000.0\n",
       "2   1750.0      4               120  70000.0\n",
       "3   2017.0      5               140  90000.0\n",
       "4   1900.0      4                80  90000.0"
      ]
     },
     "execution_count": 27,
     "metadata": {},
     "output_type": "execute_result"
    }
   ],
   "source": [
    "df_1 = df[['Baujahr','Zimmer','Wohnflaeche__m²_','Preis']]\n",
    "df_1.head()"
   ]
  },
  {
   "cell_type": "markdown",
   "metadata": {},
   "source": [
    "Почистим данные от Nan:"
   ]
  },
  {
   "cell_type": "code",
   "execution_count": 28,
   "metadata": {},
   "outputs": [],
   "source": [
    "df_1 = df_1.dropna()"
   ]
  },
  {
   "cell_type": "markdown",
   "metadata": {},
   "source": [
    "Колонка Zimmer представлена ввиде строк, ее приведем к типу float:"
   ]
  },
  {
   "cell_type": "code",
   "execution_count": 29,
   "metadata": {},
   "outputs": [],
   "source": [
    "df_1['Zimmer'] = (df_1['Zimmer']).astype(float).astype(int)"
   ]
  },
  {
   "cell_type": "markdown",
   "metadata": {},
   "source": [
    "Нарисуем несколько векторов в 3D пространстве: возьмем первые 3 дома из таблицы."
   ]
  },
  {
   "cell_type": "code",
   "execution_count": 30,
   "metadata": {},
   "outputs": [
    {
     "data": {
      "image/png": "[encoded data removed]",
      "text/plain": [
       "<Figure size 720x720 with 1 Axes>"
      ]
     },
     "metadata": {
      "needs_background": "light"
     },
     "output_type": "display_data"
    }
   ],
   "source": [
    "fig = plt.figure(figsize=(10, 10))\n",
    "ax = fig.gca(projection='3d')\n",
    "\n",
    "x = np.array(df_1['Baujahr'])\n",
    "y = np.array(df_1['Wohnflaeche__m²_'])\n",
    "z = np.array(df_1['Zimmer'])\n",
    "\n",
    "ax.plot([0,x[0]], [0,y[0]], [0,z[0]])\n",
    "ax.plot([0,x[1]], [0,y[1]], [0,z[1]])\n",
    "ax.plot([0,x[2]], [0,y[2]], [0,z[2]])\n",
    "\n",
    "ax.scatter(x[0], y[0], z[0], c='b', marker='o')\n",
    "ax.scatter(x[1], y[1], z[1], c='r', marker='o')\n",
    "ax.scatter(x[2], y[2], z[2], c='g', marker='o')\n",
    "\n",
    "ax.set_xlabel('Год покупки')\n",
    "ax.set_ylabel('Размер дома в кв. метрах')\n",
    "ax.set_zlabel('Количество комнат')\n",
    "ax.legend(['дом 1', 'дом 2', 'дом 3'])\n",
    "\n",
    "plt.show()"
   ]
  },
  {
   "cell_type": "markdown",
   "metadata": {},
   "source": [
    "## Типы матриц"
   ]
  },
  {
   "cell_type": "markdown",
   "metadata": {},
   "source": [
    "Вспомним про типы матриц из лекции:"
   ]
  },
  {
   "cell_type": "markdown",
   "metadata": {},
   "source": [
    "1) m = n => **квадратная**, иначе **прямоугольная**\n",
    "\n",
    "2) m = 1 => матрица-строка\n",
    "\n",
    "3) n = 1 => матрица-столбец\n",
    "\n",
    "4) **нулевая матрица**, если все элементы = 0\n",
    "\n",
    "5) **диагональная (единичная)**\n",
    "\n",
    "6) **треугольная(нижнетреугольная, верхнетреугольная)**\n",
    "\n",
    "7) **ортогональная**"
   ]
  },
  {
   "cell_type": "markdown",
   "metadata": {},
   "source": [
    "Посмотрим на встроенные функции <b>numpy</b> для создания матриц с вышеперечисленными свойствами"
   ]
  },
  {
   "cell_type": "markdown",
   "metadata": {},
   "source": [
    "### Создаём матрицу нужной размерности"
   ]
  },
  {
   "cell_type": "code",
   "execution_count": 5,
   "metadata": {},
   "outputs": [
    {
     "name": "stdout",
     "output_type": "stream",
     "text": [
      "[[0.65 0.18]\n",
      " [0.66 0.26]\n",
      " [0.91 0.67]]\n"
     ]
    }
   ],
   "source": [
    "m0 = np.round(np.random.rand(3,2), 2)\n",
    "print(m0)"
   ]
  },
  {
   "cell_type": "markdown",
   "metadata": {},
   "source": [
    "### Создаём строку"
   ]
  },
  {
   "cell_type": "code",
   "execution_count": 6,
   "metadata": {},
   "outputs": [
    {
     "name": "stdout",
     "output_type": "stream",
     "text": [
      "[0.64736609 0.98234049 0.14059928]\n"
     ]
    }
   ],
   "source": [
    "m = np.random.rand(3)\n",
    "print(m)"
   ]
  },
  {
   "cell_type": "markdown",
   "metadata": {},
   "source": [
    "### Создаём столбец"
   ]
  },
  {
   "cell_type": "code",
   "execution_count": 8,
   "metadata": {},
   "outputs": [
    {
     "name": "stdout",
     "output_type": "stream",
     "text": [
      "[[0.22646042 0.74863325 0.89701806]]\n"
     ]
    }
   ],
   "source": [
    "m = np.random.rand(1,3)\n",
    "print(m)"
   ]
  },
  {
   "cell_type": "markdown",
   "metadata": {},
   "source": [
    "### Создаём нулевую матрицу"
   ]
  },
  {
   "cell_type": "code",
   "execution_count": 9,
   "metadata": {},
   "outputs": [
    {
     "name": "stdout",
     "output_type": "stream",
     "text": [
      "[[0. 0. 0. 0.]\n",
      " [0. 0. 0. 0.]\n",
      " [0. 0. 0. 0.]]\n"
     ]
    }
   ],
   "source": [
    "m1 = np.zeros((3,4))\n",
    "print(m1)"
   ]
  },
  {
   "cell_type": "markdown",
   "metadata": {},
   "source": [
    "### Можно создать нулевую матрицу размера уже существующей"
   ]
  },
  {
   "cell_type": "code",
   "execution_count": 34,
   "metadata": {},
   "outputs": [
    {
     "name": "stdout",
     "output_type": "stream",
     "text": [
      "было:\n",
      "[[0.65 0.18]\n",
      " [0.66 0.26]\n",
      " [0.91 0.67]]\n",
      "\n",
      "стало:\n",
      "[[0. 0.]\n",
      " [0. 0.]\n",
      " [0. 0.]]\n"
     ]
    }
   ],
   "source": [
    "m1 = np.zeros_like(m0)\n",
    "print('было:')\n",
    "print(m0)\n",
    "print('')\n",
    "print('стало:')\n",
    "print(m1)"
   ]
  },
  {
   "cell_type": "markdown",
   "metadata": {},
   "source": [
    "### Создаём диагональную матрицу"
   ]
  },
  {
   "cell_type": "code",
   "execution_count": 11,
   "metadata": {},
   "outputs": [
    {
     "name": "stdout",
     "output_type": "stream",
     "text": [
      "[[1 0 0]\n",
      " [0 2 0]\n",
      " [0 0 3]]\n"
     ]
    }
   ],
   "source": [
    "m = np.diag([1,2,3])\n",
    "print(m)"
   ]
  },
  {
   "cell_type": "markdown",
   "metadata": {},
   "source": [
    "### Создаём единичную матрицу"
   ]
  },
  {
   "cell_type": "code",
   "execution_count": 12,
   "metadata": {},
   "outputs": [
    {
     "name": "stdout",
     "output_type": "stream",
     "text": [
      "[[1. 1. 1. 1.]\n",
      " [1. 1. 1. 1.]\n",
      " [1. 1. 1. 1.]]\n"
     ]
    }
   ],
   "source": [
    "m = np.ones((3,4))\n",
    "print(m)"
   ]
  },
  {
   "cell_type": "markdown",
   "metadata": {},
   "source": [
    "### Можно создать единичную матрицу размера уже существующей"
   ]
  },
  {
   "cell_type": "code",
   "execution_count": 33,
   "metadata": {},
   "outputs": [
    {
     "name": "stdout",
     "output_type": "stream",
     "text": [
      "было:\n",
      "[[0.65 0.18]\n",
      " [0.66 0.26]\n",
      " [0.91 0.67]]\n",
      "\n",
      "стало:\n",
      "[[1. 1.]\n",
      " [1. 1.]\n",
      " [1. 1.]]\n"
     ]
    }
   ],
   "source": [
    "m1 = np.ones_like(m0)\n",
    "print('было:')\n",
    "print(m0)\n",
    "print('')\n",
    "print('стало:')\n",
    "print(m1)"
   ]
  },
  {
   "cell_type": "markdown",
   "metadata": {},
   "source": [
    "### Также можно создать квадратную единичную матрицу следующей командой:"
   ]
  },
  {
   "cell_type": "code",
   "execution_count": 14,
   "metadata": {},
   "outputs": [
    {
     "name": "stdout",
     "output_type": "stream",
     "text": [
      "[[1. 0. 0.]\n",
      " [0. 1. 0.]\n",
      " [0. 0. 1.]]\n"
     ]
    }
   ],
   "source": [
    "m = np.eye(3)\n",
    "print(m)"
   ]
  },
  {
   "cell_type": "markdown",
   "metadata": {},
   "source": [
    "### Можно создавать **нижнетреугольные** матрицы (tril = triangle + lower)"
   ]
  },
  {
   "cell_type": "code",
   "execution_count": 32,
   "metadata": {},
   "outputs": [
    {
     "name": "stdout",
     "output_type": "stream",
     "text": [
      "было:\n",
      "[[ 1  2  3]\n",
      " [ 4  5  6]\n",
      " [ 7  8  9]\n",
      " [10 11 12]]\n",
      "\n",
      "стало:\n",
      "[[ 0  0  0]\n",
      " [ 4  0  0]\n",
      " [ 7  8  0]\n",
      " [10 11 12]]\n"
     ]
    }
   ],
   "source": [
    "array_matrix = np.array([[1,2,3],[4,5,6],[7,8,9],[10,11,12]])\n",
    "print('было:')\n",
    "print(array_matrix)\n",
    "print('')\n",
    "print('стало:')\n",
    "m = np.tril(array_matrix, -1)\n",
    "print(m)"
   ]
  },
  {
   "cell_type": "code",
   "execution_count": 21,
   "metadata": {},
   "outputs": [
    {
     "name": "stdout",
     "output_type": "stream",
     "text": [
      "[[ 1  0  0]\n",
      " [ 4  5  0]\n",
      " [ 7  8  9]\n",
      " [10 11 12]]\n"
     ]
    }
   ],
   "source": [
    "m = np.tril(array_matrix, 0)\n",
    "print(m)"
   ]
  },
  {
   "cell_type": "markdown",
   "metadata": {},
   "source": [
    "### А также верхнетреугольные (triu = triangle + upper)"
   ]
  },
  {
   "cell_type": "code",
   "execution_count": 22,
   "metadata": {},
   "outputs": [
    {
     "name": "stdout",
     "output_type": "stream",
     "text": [
      "[[ 1  2  3]\n",
      " [ 4  5  6]\n",
      " [ 0  8  9]\n",
      " [ 0  0 12]]\n"
     ]
    }
   ],
   "source": [
    "m = np.triu(array_matrix, -1)\n",
    "print(m)"
   ]
  },
  {
   "cell_type": "code",
   "execution_count": 23,
   "metadata": {},
   "outputs": [
    {
     "name": "stdout",
     "output_type": "stream",
     "text": [
      "[[1 2 3]\n",
      " [0 5 6]\n",
      " [0 0 9]\n",
      " [0 0 0]]\n"
     ]
    }
   ],
   "source": [
    "m = np.triu(array_matrix, 0)\n",
    "print(m)"
   ]
  },
  {
   "cell_type": "markdown",
   "metadata": {},
   "source": [
    "### Определитель матрицы"
   ]
  },
  {
   "cell_type": "code",
   "execution_count": 35,
   "metadata": {},
   "outputs": [
    {
     "name": "stdout",
     "output_type": "stream",
     "text": [
      "исходная матрица:\n",
      "[[1. 2. 1.]\n",
      " [1. 1. 4.]\n",
      " [2. 3. 6.]]\n",
      "определитель матрицы:\n",
      "-1.0\n"
     ]
    }
   ],
   "source": [
    "m = np.array([[1, 2, 1], [1, 1, 4], [2, 3, 6]], dtype=np.float32)\n",
    "det = np.linalg.det(m)\n",
    "print('исходная матрица:')\n",
    "print(m)\n",
    "print('определитель матрицы:')\n",
    "print(det)"
   ]
  },
  {
   "cell_type": "markdown",
   "metadata": {},
   "source": [
    "### Транспонирование матрицы"
   ]
  },
  {
   "cell_type": "code",
   "execution_count": 36,
   "metadata": {},
   "outputs": [
    {
     "name": "stdout",
     "output_type": "stream",
     "text": [
      "Исходная матрица:\n",
      "[[ 0  1  2]\n",
      " [ 3  4  5]\n",
      " [ 6  7  8]\n",
      " [ 9 10 11]\n",
      " [12 13 14]]\n"
     ]
    }
   ],
   "source": [
    "x = np.arange(15).reshape((5,3))\n",
    "print('Исходная матрица:')\n",
    "print(x)"
   ]
  },
  {
   "cell_type": "code",
   "execution_count": 37,
   "metadata": {},
   "outputs": [
    {
     "name": "stdout",
     "output_type": "stream",
     "text": [
      "Транспонированная матрица:\n"
     ]
    },
    {
     "data": {
      "text/plain": [
       "array([[ 0,  3,  6,  9, 12],\n",
       "       [ 1,  4,  7, 10, 13],\n",
       "       [ 2,  5,  8, 11, 14]])"
      ]
     },
     "execution_count": 37,
     "metadata": {},
     "output_type": "execute_result"
    }
   ],
   "source": [
    "print('Транспонированная матрица:')\n",
    "np.transpose(x)"
   ]
  },
  {
   "cell_type": "markdown",
   "metadata": {},
   "source": [
    "### Сложение и умножение матрицы на скаляр"
   ]
  },
  {
   "cell_type": "code",
   "execution_count": 38,
   "metadata": {},
   "outputs": [
    {
     "name": "stdout",
     "output_type": "stream",
     "text": [
      "Исходная матрица:\n",
      "[[1 3 3]\n",
      " [1 4 3]\n",
      " [1 3 4]]\n"
     ]
    }
   ],
   "source": [
    "A = np.array(([1,3,3],[1,4,3],[1,3,4]))\n",
    "print('Исходная матрица:')\n",
    "print(A)"
   ]
  },
  {
   "cell_type": "code",
   "execution_count": 39,
   "metadata": {},
   "outputs": [
    {
     "name": "stdout",
     "output_type": "stream",
     "text": [
      "Сложение матрицы со скаляром (100):\n",
      "[[101 103 103]\n",
      " [101 104 103]\n",
      " [101 103 104]]\n"
     ]
    }
   ],
   "source": [
    "C = A + 100\n",
    "print('Сложение матрицы со скаляром (100):')\n",
    "print(C)"
   ]
  },
  {
   "cell_type": "code",
   "execution_count": 40,
   "metadata": {},
   "outputs": [
    {
     "name": "stdout",
     "output_type": "stream",
     "text": [
      "Умножение матрицы на число (100):\n",
      "[[100 300 300]\n",
      " [100 400 300]\n",
      " [100 300 400]]\n"
     ]
    }
   ],
   "source": [
    "C = A * 100\n",
    "print('Умножение матрицы на число (100):')\n",
    "print(C)"
   ]
  },
  {
   "cell_type": "markdown",
   "metadata": {},
   "source": [
    "### Обратная матрица"
   ]
  },
  {
   "cell_type": "code",
   "execution_count": 41,
   "metadata": {},
   "outputs": [
    {
     "name": "stdout",
     "output_type": "stream",
     "text": [
      "Исходная матрица:\n",
      "[[1 3 3]\n",
      " [1 4 3]\n",
      " [1 3 4]]\n"
     ]
    }
   ],
   "source": [
    "A = np.array(([1,3,3],[1,4,3],[1,3,4]))\n",
    "print('Исходная матрица:')\n",
    "print(A)"
   ]
  },
  {
   "cell_type": "code",
   "execution_count": 42,
   "metadata": {},
   "outputs": [
    {
     "name": "stdout",
     "output_type": "stream",
     "text": [
      "Обратная матрица:\n",
      "[[ 7. -3. -3.]\n",
      " [-1.  1.  0.]\n",
      " [-1.  0.  1.]]\n"
     ]
    }
   ],
   "source": [
    "A_inv = np.linalg.inv(A)\n",
    "print('Обратная матрица:')\n",
    "print(A_inv)"
   ]
  },
  {
   "cell_type": "code",
   "execution_count": 43,
   "metadata": {},
   "outputs": [
    {
     "name": "stdout",
     "output_type": "stream",
     "text": [
      "Умножение исходной матрицы на обратную:\n",
      "[[1. 0. 0.]\n",
      " [0. 1. 0.]\n",
      " [0. 0. 1.]]\n"
     ]
    }
   ],
   "source": [
    "I = A_inv.dot(A)\n",
    "print('Умножение исходной матрицы на обратную:')\n",
    "print(I)"
   ]
  },
  {
   "cell_type": "markdown",
   "metadata": {},
   "source": [
    "# Преобразование с помощью матрицы преобразований"
   ]
  },
  {
   "cell_type": "code",
   "execution_count": 47,
   "metadata": {},
   "outputs": [],
   "source": [
    "A = np.array([\n",
    "    [0, 0, 1],\n",
    "    [1, 0, 1],\n",
    "    [1, 1, 1],\n",
    "    [0, 1, 1],\n",
    "    [0, 0, 1]\n",
    "    ])"
   ]
  },
  {
   "cell_type": "markdown",
   "metadata": {},
   "source": [
    "Исходный прямоугольник:"
   ]
  },
  {
   "cell_type": "code",
   "execution_count": 53,
   "metadata": {},
   "outputs": [
    {
     "data": {
      "text/plain": [
       "(-2.0, 2.0)"
      ]
     },
     "execution_count": 53,
     "metadata": {},
     "output_type": "execute_result"
    },
    {
     "data": {
      "image/png": "[encoded data removed]",
      "text/plain": [
       "<Figure size 432x288 with 1 Axes>"
      ]
     },
     "metadata": {
      "needs_background": "light"
     },
     "output_type": "display_data"
    }
   ],
   "source": [
    "x = A[:,0]\n",
    "y = A[:,1]\n",
    "plt.plot(x, y)\n",
    "plt.ylim([-2, 2])\n",
    "plt.xlim([-2, 2])"
   ]
  },
  {
   "cell_type": "markdown",
   "metadata": {},
   "source": [
    "Матрица преобразования:"
   ]
  },
  {
   "cell_type": "code",
   "execution_count": 54,
   "metadata": {},
   "outputs": [],
   "source": [
    "TransformArray = np.array([\n",
    "    [-1, -1, 0],\n",
    "    [1, 3, 0],\n",
    "    [0, 0, 1]\n",
    "])"
   ]
  },
  {
   "cell_type": "code",
   "execution_count": 55,
   "metadata": {},
   "outputs": [],
   "source": [
    "B = []\n",
    "for point in A:\n",
    "    new_point=np.dot(TransformArray,np.transpose(point))\n",
    "    B.append(new_point)\n",
    "B = np.array(B).astype(int)"
   ]
  },
  {
   "cell_type": "code",
   "execution_count": 61,
   "metadata": {},
   "outputs": [
    {
     "data": {
      "text/plain": [
       "<matplotlib.legend.Legend at 0x7f2d6200ec88>"
      ]
     },
     "execution_count": 61,
     "metadata": {},
     "output_type": "execute_result"
    },
    {
     "data": {
      "image/png": "[encoded data removed]",
      "text/plain": [
       "<Figure size 432x288 with 1 Axes>"
      ]
     },
     "metadata": {
      "needs_background": "light"
     },
     "output_type": "display_data"
    }
   ],
   "source": [
    "x = B[:,0]\n",
    "y = B[:,1]\n",
    "plt.plot(x, y)\n",
    "x = A[:,0]\n",
    "y = A[:,1]\n",
    "plt.plot(x, y, color='r')\n",
    "plt.ylim([-2, 6])\n",
    "plt.xlim([-4, 4])\n",
    "plt.legend(['измененный', 'исходный'])"
   ]
  },
  {
   "cell_type": "markdown",
   "metadata": {},
   "source": [
    "## Собственные векторы и собственные значения"
   ]
  },
  {
   "cell_type": "code",
   "execution_count": 25,
   "metadata": {},
   "outputs": [],
   "source": [
    "a = np.array([[-1, -6], [2, 6]])\n",
    "w, v = np.linalg.eig(a)"
   ]
  },
  {
   "cell_type": "code",
   "execution_count": 26,
   "metadata": {},
   "outputs": [
    {
     "name": "stdout",
     "output_type": "stream",
     "text": [
      "[[-1 -6]\n",
      " [ 2  6]]\n"
     ]
    }
   ],
   "source": [
    "print(a)"
   ]
  },
  {
   "cell_type": "code",
   "execution_count": null,
   "metadata": {},
   "outputs": [],
   "source": []
  }
 ],
 "metadata": {
  "kernelspec": {
   "display_name": "Python 3",
   "language": "python",
   "name": "python3"
  },
  "language_info": {
   "codemirror_mode": {
    "name": "ipython",
    "version": 3
   },
   "file_extension": ".py",
   "mimetype": "text/x-python",
   "name": "python",
   "nbconvert_exporter": "python",
   "pygments_lexer": "ipython3",
   "version": "3.6.9"
  }
 },
 "nbformat": 4,
 "nbformat_minor": 2
}
